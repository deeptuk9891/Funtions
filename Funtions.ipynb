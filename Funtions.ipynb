{
  "nbformat": 4,
  "nbformat_minor": 0,
  "metadata": {
    "colab": {
      "provenance": []
    },
    "kernelspec": {
      "name": "python3",
      "display_name": "Python 3"
    },
    "language_info": {
      "name": "python"
    }
  },
  "cells": [
    {
      "cell_type": "markdown",
      "source": [
        "#  Funtions\n"
      ],
      "metadata": {
        "id": "orCXYMupPD1N"
      }
    },
    {
      "cell_type": "markdown",
      "source": [
        "# Questions with answer\n",
        "\n"
      ],
      "metadata": {
        "id": "2S9J4x2qPnkV"
      }
    },
    {
      "cell_type": "markdown",
      "source": [
        "    1. What is the difference between a function and a method in Python?\n",
        "    -  function is a reusable block of code that performs a specific task, while a method is a function that is associated with an object or class, enabling it to act upon the object's data.\n",
        "\n",
        "    2.  Explain the concept of function arguments and parameters in Python?\n",
        "    - A parameter is the variable listed inside the parentheses in the function definition. An argument is the value that are sent to the function when it is called.\n",
        "    3 . What are the different ways to define and call a function in Python?\n",
        "    - To define a function in Python, you use the def keyword, followed by the function name, parentheses for parameters, and a colon, then indent the code block. To call it, simply write the function name with parentheses.\n",
        "\n",
        "    4. What is the purpose of the `return` statement in a Python function?\n",
        "    - The python return statement is used to return the output from a function. We learned that we can also return a function from another function.\n",
        "    5. What are iterators in Python and how do they differ from iterables?\n",
        "    - An Iterable is basically an object that any user can iterate over. An Iterator is also an object that helps a user in iterating over another object that is iterable.\n",
        "\n",
        "    6.Explain the concept of generators in Python and how they are defined?\n",
        "    - allows you to declare a function that behaves like an iterator, providing a faster and easier way to create iterators.\n",
        "    7. What are the advantages of using generators over regular functions?   \n",
        "    - Unlike a regular function, a generator does not return its results all at once. Instead, it yields its values one by one, each time it is called. This makes it possible to generate an infinite sequence of values, as long as there is sufficient memory to store them.\n",
        "    8. What is a lambda function in Python and when is it typically used?\n",
        "    - hey're commonly referred to as anonymous functions. Lambda functions are efficient whenever you want to create a function that will only contain simple expressions – that is, expressions that are usually a single line of a statement. They're also useful when you want to use the function once.\n",
        "    9. Explain the purpose and usage of the `map()` function in Python.\n",
        "    - The map() function in Python applies a given function to each item in an iterable (like a list, tuple, or dictionary) and returns a new iterator with the results, providing a concise way to transform data without explicit loops\n",
        "    10.  What is the difference between `map()`, `reduce()`, and `filter()` functions in Python?\n",
        "    - Map' applies a function to each element in an array and returns an array of the results, 'Reduce' applies a function to the array and returns a single output, 'Filter' uses a boolean function to select certain elements from an array.   \n",
        "    11. 1. Using pen & Paper write the internal mechanism for sum operation using reduce function on this given\n",
        "    list:[47,11,42,13]\n",
        "    -\n"
      ],
      "metadata": {
        "id": "Q8jg1Lo3P59J"
      }
    },
    {
      "cell_type": "code",
      "source": [
        "from functools import reduce\n",
        "l =[47,11,42,13]\n",
        "reduce(lambda x,y:x+y,l)"
      ],
      "metadata": {
        "colab": {
          "base_uri": "https://localhost:8080/"
        },
        "id": "NiCLJUfGYHMP",
        "outputId": "0c0b763c-e54e-49fd-a43a-95f0e639813c"
      },
      "execution_count": 1,
      "outputs": [
        {
          "output_type": "execute_result",
          "data": {
            "text/plain": [
              "113"
            ]
          },
          "metadata": {},
          "execution_count": 1
        }
      ]
    },
    {
      "cell_type": "markdown",
      "source": [
        "11. Write a Python function that takes a list of numbers as input and returns the sum of all even numbers in\n",
        "the list."
      ],
      "metadata": {
        "id": "E-5m2KKjdgXN"
      }
    },
    {
      "cell_type": "code",
      "source": [
        "def sum_even_numbers(numbers):\n",
        "    even_numbers = [num for num in numbers if num % 2 == 0]\n",
        "    return sum(even_numbers)"
      ],
      "metadata": {
        "id": "z1I4X79MXb19"
      },
      "execution_count": 2,
      "outputs": []
    },
    {
      "cell_type": "code",
      "source": [
        "sum_even_numbers([47,11,42,13,8])"
      ],
      "metadata": {
        "colab": {
          "base_uri": "https://localhost:8080/"
        },
        "id": "B0RR_pgJP5rz",
        "outputId": "70a9dd71-ed26-48c9-a112-33f0ff1e03b8"
      },
      "execution_count": 4,
      "outputs": [
        {
          "output_type": "execute_result",
          "data": {
            "text/plain": [
              "50"
            ]
          },
          "metadata": {},
          "execution_count": 4
        }
      ]
    },
    {
      "cell_type": "markdown",
      "source": [
        "create a Python function that accepts a string and returns the reverse of that string."
      ],
      "metadata": {
        "id": "9-zHaXVEokaS"
      }
    },
    {
      "cell_type": "code",
      "source": [
        "def  reverse_string(string):\n",
        "    return string[::-1]"
      ],
      "metadata": {
        "id": "xSk1kYf9PlPI"
      },
      "execution_count": 14,
      "outputs": []
    },
    {
      "cell_type": "code",
      "source": [
        "reverse_string(\"hello\")"
      ],
      "metadata": {
        "colab": {
          "base_uri": "https://localhost:8080/",
          "height": 35
        },
        "id": "FAuG_z4GPloP",
        "outputId": "4182f1dc-a155-445e-88e0-8efcd1ffa7fa"
      },
      "execution_count": 13,
      "outputs": [
        {
          "output_type": "execute_result",
          "data": {
            "text/plain": [
              "'hell'"
            ],
            "application/vnd.google.colaboratory.intrinsic+json": {
              "type": "string"
            }
          },
          "metadata": {},
          "execution_count": 13
        }
      ]
    },
    {
      "cell_type": "markdown",
      "source": [
        "implement a Python function that takes a list of integers and returns a new list containing the squares of\n",
        "each number?"
      ],
      "metadata": {
        "id": "kNv7lL-4qz2P"
      }
    },
    {
      "cell_type": "code",
      "execution_count": 19,
      "metadata": {
        "id": "E2lta4g8Ovrn"
      },
      "outputs": [],
      "source": [
        "def number_Square(a):\n",
        "  n = []\n",
        "  for i in a:\n",
        "    n.append(i**2)\n",
        "  return n"
      ]
    },
    {
      "cell_type": "code",
      "source": [
        "number_Square([1,2,3,4,5])"
      ],
      "metadata": {
        "colab": {
          "base_uri": "https://localhost:8080/"
        },
        "id": "bs2qyM4XsDdw",
        "outputId": "ea37e38e-ef99-4674-8ad5-0d7e8c19a2cf"
      },
      "execution_count": 20,
      "outputs": [
        {
          "output_type": "execute_result",
          "data": {
            "text/plain": [
              "[1, 4, 9, 16, 25]"
            ]
          },
          "metadata": {},
          "execution_count": 20
        }
      ]
    },
    {
      "cell_type": "markdown",
      "source": [
        "Write a Python function that checks if a given number is prime or not from 1 to 200."
      ],
      "metadata": {
        "id": "KPyqNRi4uiR_"
      }
    },
    {
      "cell_type": "code",
      "source": [
        "def is_prime(number):\n",
        "    if number < 2:\n",
        "        return False\n",
        "    for i in range(2, int(number**0.5) + 1):\n",
        "        if number % i == 0:\n",
        "            return False\n",
        "    return True"
      ],
      "metadata": {
        "id": "FXSA2REZuh8v"
      },
      "execution_count": 4,
      "outputs": []
    },
    {
      "cell_type": "code",
      "source": [
        "is_prime(2)"
      ],
      "metadata": {
        "colab": {
          "base_uri": "https://localhost:8080/"
        },
        "id": "TVhEr_wAsEoa",
        "outputId": "c6f78f0f-4e9d-4f80-8dc8-5191acd368a8"
      },
      "execution_count": 7,
      "outputs": [
        {
          "output_type": "execute_result",
          "data": {
            "text/plain": [
              "True"
            ]
          },
          "metadata": {},
          "execution_count": 7
        }
      ]
    },
    {
      "cell_type": "markdown",
      "source": [
        "Create an iterator class in Python that generates the Fibonacci sequence up to a specified number of\n",
        "terms."
      ],
      "metadata": {
        "id": "ikjYCDS9Us0F"
      }
    },
    {
      "cell_type": "code",
      "source": [
        "def fibonacci_sequence(n):\n",
        "    a, b = 0, 1\n",
        "    for _ in range(n):\n",
        "        yield a\n",
        "        a, b = b, a + b"
      ],
      "metadata": {
        "id": "JcwuN1BuUuot"
      },
      "execution_count": 8,
      "outputs": []
    },
    {
      "cell_type": "code",
      "source": [
        "f =  fibonacci_sequence(10)\n",
        "\n"
      ],
      "metadata": {
        "id": "kjerF7lbsE8O"
      },
      "execution_count": 9,
      "outputs": []
    },
    {
      "cell_type": "code",
      "source": [
        "f"
      ],
      "metadata": {
        "colab": {
          "base_uri": "https://localhost:8080/"
        },
        "id": "zRIXIKXhsFGO",
        "outputId": "1e1f85e1-0576-430f-e241-f6c64e052efe"
      },
      "execution_count": 10,
      "outputs": [
        {
          "output_type": "execute_result",
          "data": {
            "text/plain": [
              "<generator object fibonacci_sequence at 0x7ff38ab49120>"
            ]
          },
          "metadata": {},
          "execution_count": 10
        }
      ]
    },
    {
      "cell_type": "code",
      "source": [
        "next(f)"
      ],
      "metadata": {
        "colab": {
          "base_uri": "https://localhost:8080/"
        },
        "id": "IohzqVhAVc4T",
        "outputId": "a140c245-aba8-4f08-9396-0c341157154f"
      },
      "execution_count": 11,
      "outputs": [
        {
          "output_type": "execute_result",
          "data": {
            "text/plain": [
              "0"
            ]
          },
          "metadata": {},
          "execution_count": 11
        }
      ]
    },
    {
      "cell_type": "code",
      "source": [
        "next(f)"
      ],
      "metadata": {
        "colab": {
          "base_uri": "https://localhost:8080/"
        },
        "id": "KE0AdfOWVgV7",
        "outputId": "1f51fd99-c1b2-4f71-da22-b2c6182a52bb"
      },
      "execution_count": 12,
      "outputs": [
        {
          "output_type": "execute_result",
          "data": {
            "text/plain": [
              "1"
            ]
          },
          "metadata": {},
          "execution_count": 12
        }
      ]
    },
    {
      "cell_type": "code",
      "source": [
        "next(f)"
      ],
      "metadata": {
        "colab": {
          "base_uri": "https://localhost:8080/"
        },
        "id": "3wBmqs9HVgal",
        "outputId": "cbdcb953-4126-4e72-872b-9b4d081230a8"
      },
      "execution_count": 13,
      "outputs": [
        {
          "output_type": "execute_result",
          "data": {
            "text/plain": [
              "1"
            ]
          },
          "metadata": {},
          "execution_count": 13
        }
      ]
    },
    {
      "cell_type": "code",
      "source": [
        "next(f)"
      ],
      "metadata": {
        "colab": {
          "base_uri": "https://localhost:8080/"
        },
        "id": "uWwFxAJNVgfd",
        "outputId": "a56203b4-e919-41a7-fcc5-5967dd82cf37"
      },
      "execution_count": 14,
      "outputs": [
        {
          "output_type": "execute_result",
          "data": {
            "text/plain": [
              "2"
            ]
          },
          "metadata": {},
          "execution_count": 14
        }
      ]
    },
    {
      "cell_type": "code",
      "source": [
        "next(f)"
      ],
      "metadata": {
        "colab": {
          "base_uri": "https://localhost:8080/"
        },
        "id": "Lv0P4DP7Vgj5",
        "outputId": "c9f1d1c0-b503-43f2-e3b3-5719152bb069"
      },
      "execution_count": 15,
      "outputs": [
        {
          "output_type": "execute_result",
          "data": {
            "text/plain": [
              "3"
            ]
          },
          "metadata": {},
          "execution_count": 15
        }
      ]
    },
    {
      "cell_type": "markdown",
      "source": [
        "Write a generator function in Python that yields the powers of 2 up to a given exponent."
      ],
      "metadata": {
        "id": "cAh2Xo1ZWGwX"
      }
    },
    {
      "cell_type": "code",
      "source": [
        "def square_number_generator(n):\n",
        "    for i in range(n + 1):\n",
        "        yield 2 **"
      ],
      "metadata": {
        "id": "oTRLCAauVgoo"
      },
      "execution_count": 17,
      "outputs": []
    },
    {
      "cell_type": "code",
      "source": [
        "square_number_generator(10)"
      ],
      "metadata": {
        "colab": {
          "base_uri": "https://localhost:8080/"
        },
        "id": "4q6aZOVrVgrR",
        "outputId": "9fff1948-c761-4c29-eaa0-57010e851a23"
      },
      "execution_count": 19,
      "outputs": [
        {
          "output_type": "execute_result",
          "data": {
            "text/plain": [
              "<generator object square_number_generator at 0x7ff38a27f5a0>"
            ]
          },
          "metadata": {},
          "execution_count": 19
        }
      ]
    },
    {
      "cell_type": "code",
      "source": [
        "gen = square_number_generator(10)"
      ],
      "metadata": {
        "id": "t1tRztJzVuqP"
      },
      "execution_count": 21,
      "outputs": []
    },
    {
      "cell_type": "code",
      "source": [
        "next(gen)"
      ],
      "metadata": {
        "colab": {
          "base_uri": "https://localhost:8080/"
        },
        "id": "QCOINkNKVutl",
        "outputId": "073bc82d-0be4-4a00-8216-dabbb947107d"
      },
      "execution_count": 22,
      "outputs": [
        {
          "output_type": "execute_result",
          "data": {
            "text/plain": [
              "1"
            ]
          },
          "metadata": {},
          "execution_count": 22
        }
      ]
    },
    {
      "cell_type": "code",
      "source": [
        "next(gen)"
      ],
      "metadata": {
        "colab": {
          "base_uri": "https://localhost:8080/"
        },
        "id": "fOVKTYdhW8Wc",
        "outputId": "43693ba1-ec19-407f-f5fe-c4503a08155f"
      },
      "execution_count": 23,
      "outputs": [
        {
          "output_type": "execute_result",
          "data": {
            "text/plain": [
              "2"
            ]
          },
          "metadata": {},
          "execution_count": 23
        }
      ]
    },
    {
      "cell_type": "code",
      "source": [
        "next(gen)"
      ],
      "metadata": {
        "colab": {
          "base_uri": "https://localhost:8080/"
        },
        "id": "UgS1xE9JW8xL",
        "outputId": "3e81f1ad-f1db-426f-9ffb-82e9384252d2"
      },
      "execution_count": 24,
      "outputs": [
        {
          "output_type": "execute_result",
          "data": {
            "text/plain": [
              "4"
            ]
          },
          "metadata": {},
          "execution_count": 24
        }
      ]
    },
    {
      "cell_type": "code",
      "source": [
        "next(gen)"
      ],
      "metadata": {
        "colab": {
          "base_uri": "https://localhost:8080/"
        },
        "id": "h-00ApReW82U",
        "outputId": "e7176189-3f00-43f7-e834-8b79eeae716c"
      },
      "execution_count": 25,
      "outputs": [
        {
          "output_type": "execute_result",
          "data": {
            "text/plain": [
              "8"
            ]
          },
          "metadata": {},
          "execution_count": 25
        }
      ]
    },
    {
      "cell_type": "markdown",
      "source": [
        " Implement a generator function that reads a file line by line and yields each line as a string."
      ],
      "metadata": {
        "id": "zC7SKwgWXQbI"
      }
    },
    {
      "cell_type": "code",
      "source": [
        "s = \"deepak\"\n",
        "for i in s:\n",
        "    print(i)"
      ],
      "metadata": {
        "colab": {
          "base_uri": "https://localhost:8080/"
        },
        "id": "uwnj83ItW863",
        "outputId": "cc78ae84-4ff5-4b7e-df99-2f67bc88badd"
      },
      "execution_count": 26,
      "outputs": [
        {
          "output_type": "stream",
          "name": "stdout",
          "text": [
            "d\n",
            "e\n",
            "e\n",
            "p\n",
            "a\n",
            "k\n"
          ]
        }
      ]
    },
    {
      "cell_type": "markdown",
      "source": [
        " Use a lambda function in Python to sort a list of tuples based on the second element of each tuple.\n",
        ""
      ],
      "metadata": {
        "id": "TVY2lyiZaBLC"
      }
    },
    {
      "cell_type": "code",
      "source": [
        "x = [(1, 2), (3, 1), (2, 4)]\n",
        "x"
      ],
      "metadata": {
        "colab": {
          "base_uri": "https://localhost:8080/"
        },
        "id": "1FzZ-shCW8-F",
        "outputId": "a44dc69d-0268-494f-84d7-c4c66075225b"
      },
      "execution_count": 27,
      "outputs": [
        {
          "output_type": "execute_result",
          "data": {
            "text/plain": [
              "[(1, 2), (3, 1), (2, 4)]"
            ]
          },
          "metadata": {},
          "execution_count": 27
        }
      ]
    },
    {
      "cell_type": "code",
      "source": [
        "sorted(x)"
      ],
      "metadata": {
        "colab": {
          "base_uri": "https://localhost:8080/"
        },
        "id": "jx59roV1aIT2",
        "outputId": "c5678911-dbb7-4707-e362-df5c8e6df964"
      },
      "execution_count": 29,
      "outputs": [
        {
          "output_type": "execute_result",
          "data": {
            "text/plain": [
              "[(1, 2), (2, 4), (3, 1)]"
            ]
          },
          "metadata": {},
          "execution_count": 29
        }
      ]
    },
    {
      "cell_type": "markdown",
      "source": [
        "Write a Python program that uses `map()` to convert a list of temperatures from Celsius to Fahrenheit."
      ],
      "metadata": {
        "id": "MdolfqTihwEw"
      }
    },
    {
      "cell_type": "code",
      "source": [
        "def celsius_to_fahrenheit(celsius):\n",
        "    return (celsius * 9/5) + 32"
      ],
      "metadata": {
        "id": "99pMVhHiaIQX"
      },
      "execution_count": 31,
      "outputs": []
    },
    {
      "cell_type": "code",
      "source": [
        "celsius_to_fahrenheit(37)"
      ],
      "metadata": {
        "colab": {
          "base_uri": "https://localhost:8080/"
        },
        "id": "YcrZrKTdaIOV",
        "outputId": "bc6f5043-1623-44f5-9774-bcb60fdcb822"
      },
      "execution_count": 33,
      "outputs": [
        {
          "output_type": "execute_result",
          "data": {
            "text/plain": [
              "98.6"
            ]
          },
          "metadata": {},
          "execution_count": 33
        }
      ]
    },
    {
      "cell_type": "markdown",
      "source": [
        "Create a Python program that uses `filter()` to remove all the vowels from a given string."
      ],
      "metadata": {
        "id": "hOJWJGGBiRjq"
      }
    },
    {
      "cell_type": "code",
      "source": [
        "from functools import reduce"
      ],
      "metadata": {
        "id": "RIFv_QwPty2v"
      },
      "execution_count": 53,
      "outputs": []
    },
    {
      "cell_type": "code",
      "source": [
        "vowels = ['a', 'e', 'i', 'o', 'u']\n",
        "def remove_vowels(string, data):\n",
        "    return reduce(lambda x,y:x+y if y not in vowels else x,string, '')\n"
      ],
      "metadata": {
        "id": "_cXGt1CTsGun"
      },
      "execution_count": 56,
      "outputs": []
    },
    {
      "cell_type": "code",
      "source": [
        "l = \"deepak\""
      ],
      "metadata": {
        "id": "mpdidgVOvWrY"
      },
      "execution_count": 61,
      "outputs": []
    },
    {
      "cell_type": "code",
      "source": [
        "result= remove_vowels(\"deepak\",l)\n",
        "print(result)"
      ],
      "metadata": {
        "colab": {
          "base_uri": "https://localhost:8080/"
        },
        "id": "f39iq97ZtPZ2",
        "outputId": "651beae6-6f6b-4c75-a708-0ea4c4dfa4ad"
      },
      "execution_count": 62,
      "outputs": [
        {
          "output_type": "stream",
          "name": "stdout",
          "text": [
            "dpk\n"
          ]
        }
      ]
    },
    {
      "cell_type": "markdown",
      "source": [
        " Imagine an accounting routine used in a book shop. It works on a list with sublists, which look like this:\n",
        "\n",
        "Write a Python program, which returns a list with 2-tuples. Each tuple consists of the order number and the\n",
        "product of the price per item and the quantity. The product should be increased by 10,- € if the value of the\n",
        "order is smaller than 100,00 €.\n",
        "\n",
        "Write a Python program using lambda and map."
      ],
      "metadata": {
        "id": "jeci1ZCTvvTt"
      }
    },
    {
      "cell_type": "code",
      "source": [
        "book_shop = [[34587, 'Learning Python, Mark Lutz', 4, 40.95],\n",
        "             [98762, 'Programming Python, Mark Lutz', 5, 56.80],\n",
        "             [77226, 'Head First Python, Paul Barry', 3, 32.95],\n",
        "             [88112, 'Einführung in Python3, Bernd Klein', 3, 24.99]]\n",
        ""
      ],
      "metadata": {
        "id": "rdYU9HPcwjjz"
      },
      "execution_count": 13,
      "outputs": []
    },
    {
      "cell_type": "code",
      "source": [
        "list(map(lambda x: (x[0], x[2] * x[3]) if x[2] * x[3] >= 100 else (x[0], x[2] * x[3] + 10), book_shop))"
      ],
      "metadata": {
        "colab": {
          "base_uri": "https://localhost:8080/"
        },
        "id": "s7ZJC5oHtqrR",
        "outputId": "47a4392d-4640-4a75-e7a7-68e77e2c66e9"
      },
      "execution_count": 15,
      "outputs": [
        {
          "output_type": "execute_result",
          "data": {
            "text/plain": [
              "[(34587, 163.8), (98762, 284.0), (77226, 108.85000000000001), (88112, 84.97)]"
            ]
          },
          "metadata": {},
          "execution_count": 15
        }
      ]
    }
  ]
}